{
 "cells": [
  {
   "cell_type": "markdown",
   "id": "35f8514a",
   "metadata": {},
   "source": [
    "# My Jupyter Notebook on IBM Watson Studio"
   ]
  },
  {
   "cell_type": "markdown",
   "id": "af07eb96",
   "metadata": {},
   "source": [
    "**my name is Hasan Jehangir \n",
    "I am BS DATA SCIENCE student and want to become a data scientist"
   ]
  },
  {
   "cell_type": "markdown",
   "id": "557b21ee",
   "metadata": {},
   "source": [
    "*i am interested in data science because its an emergning field. its interesting and te world need t. the data all over the world in increasing and world need someone to deal with that data and this is an interesting task to control the data so i want to become a dat scientist to control the data and work on it."
   ]
  },
  {
   "cell_type": "markdown",
   "id": "39bb3532",
   "metadata": {},
   "source": [
    "### my code is adding two digits"
   ]
  },
  {
   "cell_type": "code",
   "execution_count": 7,
   "id": "be9fb56c",
   "metadata": {},
   "outputs": [
    {
     "name": "stdout",
     "output_type": "stream",
     "text": [
      "sum of two digits is :  10\n"
     ]
    }
   ],
   "source": [
    "num_1 = 4\n",
    "num_2 = 6\n",
    "sum = num_1 + num_2\n",
    "print(\"sum of two digits is : \" , sum)"
   ]
  },
  {
   "cell_type": "markdown",
   "id": "8853f843",
   "metadata": {},
   "source": [
    "~~Scratch this~~\n",
    "---\n",
    "___\n",
    "***\n",
    "    > i am writing blockedQuotes"
   ]
  }
 ],
 "metadata": {
  "kernelspec": {
   "display_name": "Python 3 (ipykernel)",
   "language": "python",
   "name": "python3"
  },
  "language_info": {
   "codemirror_mode": {
    "name": "ipython",
    "version": 3
   },
   "file_extension": ".py",
   "mimetype": "text/x-python",
   "name": "python",
   "nbconvert_exporter": "python",
   "pygments_lexer": "ipython3",
   "version": "3.9.13"
  }
 },
 "nbformat": 4,
 "nbformat_minor": 5
}
